{
  "nbformat": 4,
  "nbformat_minor": 0,
  "metadata": {
    "colab": {
      "provenance": [],
      "authorship_tag": "ABX9TyPwa26uBUT8QStnb+uSwBH0",
      "include_colab_link": true
    },
    "kernelspec": {
      "name": "python3",
      "display_name": "Python 3"
    },
    "language_info": {
      "name": "python"
    }
  },
  "cells": [
    {
      "cell_type": "markdown",
      "metadata": {
        "id": "view-in-github",
        "colab_type": "text"
      },
      "source": [
        "<a href=\"https://colab.research.google.com/github/pravallika-5/cybersecurity-threat-data-scraper/blob/main/Untitled4.ipynb\" target=\"_parent\"><img src=\"https://colab.research.google.com/assets/colab-badge.svg\" alt=\"Open In Colab\"/></a>"
      ]
    },
    {
      "cell_type": "code",
      "source": [
        "from google.colab import drive\n",
        "import os, shutil, textwrap\n",
        "\n",
        "# Mount your Google Drive\n",
        "drive.mount('/content/drive')\n",
        "\n",
        "# Define your project directory inside Drive\n",
        "PROJECT_DIR = \"/content/drive/MyDrive/threat-data-scraper\"\n",
        "DATA_DIR = f\"{PROJECT_DIR}/sample_data\"\n",
        "OUT_DIR = f\"{PROJECT_DIR}/outputs\"\n",
        "\n",
        "# Clean slate (optional, wipes old run if exists)\n",
        "if os.path.exists(PROJECT_DIR):\n",
        "    shutil.rmtree(PROJECT_DIR)\n",
        "\n",
        "# Make fresh directories\n",
        "os.makedirs(DATA_DIR, exist_ok=True)\n",
        "os.makedirs(OUT_DIR, exist_ok=True)\n",
        "\n",
        "print(\"✅ Project directories created:\")\n",
        "print(PROJECT_DIR, DATA_DIR, OUT_DIR, sep=\"\\n\")\n"
      ],
      "metadata": {
        "colab": {
          "base_uri": "https://localhost:8080/"
        },
        "id": "-Eui8esosKe-",
        "outputId": "d17cd882-e4b4-4d53-ed83-2944e0e15901"
      },
      "execution_count": 3,
      "outputs": [
        {
          "output_type": "stream",
          "name": "stdout",
          "text": [
            "Drive already mounted at /content/drive; to attempt to forcibly remount, call drive.mount(\"/content/drive\", force_remount=True).\n",
            "✅ Project directories created:\n",
            "/content/drive/MyDrive/threat-data-scraper\n",
            "/content/drive/MyDrive/threat-data-scraper/sample_data\n",
            "/content/drive/MyDrive/threat-data-scraper/outputs\n"
          ]
        }
      ]
    },
    {
      "cell_type": "code",
      "source": [
        "sample_html = \"\"\"\n",
        "<html>\n",
        "  <body>\n",
        "    <h2>Forum Post</h2>\n",
        "    <p>User: alice | Password: wonderland123 | Email: alice@example.com</p>\n",
        "    <p>Username: bob | Pass: qwerty!@# | Email: bob_the_builder@fake.net</p>\n",
        "    <p>Contact admin: admin@darkforum.xyz</p>\n",
        "  </body>\n",
        "</html>\n",
        "\"\"\"\n",
        "\n",
        "sample_file_path = f\"{DATA_DIR}/sample_forum.html\"\n",
        "\n",
        "with open(sample_file_path, \"w\", encoding=\"utf-8\") as f:\n",
        "    f.write(textwrap.dedent(sample_html))\n",
        "\n",
        "print(f\"Sample HTML file created at: {sample_file_path}\")\n"
      ],
      "metadata": {
        "colab": {
          "base_uri": "https://localhost:8080/"
        },
        "id": "rT5s_RfEsWVp",
        "outputId": "da69ae40-0dde-4e06-cc69-18e5496981de"
      },
      "execution_count": 4,
      "outputs": [
        {
          "output_type": "stream",
          "name": "stdout",
          "text": [
            "Sample HTML file created at: /content/drive/MyDrive/threat-data-scraper/sample_data/sample_forum.html\n"
          ]
        }
      ]
    },
    {
      "cell_type": "code",
      "source": [
        "!pip install beautifulsoup4 pandas\n"
      ],
      "metadata": {
        "colab": {
          "base_uri": "https://localhost:8080/"
        },
        "id": "57ZEGw8oso-c",
        "outputId": "e4493412-7b4c-4aea-e6b5-79085b648e33"
      },
      "execution_count": 5,
      "outputs": [
        {
          "output_type": "stream",
          "name": "stdout",
          "text": [
            "Requirement already satisfied: beautifulsoup4 in /usr/local/lib/python3.12/dist-packages (4.13.4)\n",
            "Requirement already satisfied: pandas in /usr/local/lib/python3.12/dist-packages (2.2.2)\n",
            "Requirement already satisfied: soupsieve>1.2 in /usr/local/lib/python3.12/dist-packages (from beautifulsoup4) (2.7)\n",
            "Requirement already satisfied: typing-extensions>=4.0.0 in /usr/local/lib/python3.12/dist-packages (from beautifulsoup4) (4.14.1)\n",
            "Requirement already satisfied: numpy>=1.26.0 in /usr/local/lib/python3.12/dist-packages (from pandas) (2.0.2)\n",
            "Requirement already satisfied: python-dateutil>=2.8.2 in /usr/local/lib/python3.12/dist-packages (from pandas) (2.9.0.post0)\n",
            "Requirement already satisfied: pytz>=2020.1 in /usr/local/lib/python3.12/dist-packages (from pandas) (2025.2)\n",
            "Requirement already satisfied: tzdata>=2022.7 in /usr/local/lib/python3.12/dist-packages (from pandas) (2025.2)\n",
            "Requirement already satisfied: six>=1.5 in /usr/local/lib/python3.12/dist-packages (from python-dateutil>=2.8.2->pandas) (1.17.0)\n"
          ]
        }
      ]
    },
    {
      "cell_type": "code",
      "source": [
        "from bs4 import BeautifulSoup\n",
        "\n",
        "file_path = f\"{DATA_DIR}/sample_forum.html\"\n",
        "\n",
        "with open(file_path, \"r\", encoding=\"utf-8\") as f:\n",
        "    soup = BeautifulSoup(f, \"html.parser\")\n",
        "\n",
        "# Extract all <p> tags as sample posts\n",
        "posts = [p.get_text() for p in soup.find_all(\"p\")]\n",
        "print(\"✅ Extracted posts:\", posts)\n"
      ],
      "metadata": {
        "colab": {
          "base_uri": "https://localhost:8080/"
        },
        "id": "JmRqzIqdsvu2",
        "outputId": "9f94742b-4d72-49d2-fd04-7fa31df54e4f"
      },
      "execution_count": 6,
      "outputs": [
        {
          "output_type": "stream",
          "name": "stdout",
          "text": [
            "✅ Extracted posts: ['User: alice | Password: wonderland123 | Email: alice@example.com', 'Username: bob | Pass: qwerty!@# | Email: bob_the_builder@fake.net', 'Contact admin: admin@darkforum.xyz']\n"
          ]
        }
      ]
    },
    {
      "cell_type": "code",
      "source": [
        "import re\n",
        "\n",
        "emails, usernames, passwords = [], [], []\n",
        "\n",
        "for post in posts:\n",
        "    # Extract emails\n",
        "    emails += re.findall(r\"[a-zA-Z0-9._%+-]+@[a-zA-Z0-9.-]+\\.[a-z]{2,}\", post)\n",
        "\n",
        "    # Extract usernames\n",
        "    usernames += re.findall(r\"User(?:name)?:\\s*([a-zA-Z0-9_]+)\", post, re.IGNORECASE)\n",
        "\n",
        "    # Extract passwords\n",
        "    passwords += re.findall(r\"Pass(?:word)?:\\s*([^\\s|]+)\", post, re.IGNORECASE)\n",
        "\n",
        "print(\"✅ Emails:\", emails)\n",
        "print(\"✅ Usernames:\", usernames)\n",
        "print(\"✅ Passwords:\", passwords)\n"
      ],
      "metadata": {
        "colab": {
          "base_uri": "https://localhost:8080/"
        },
        "id": "tpbd1xYvsz1m",
        "outputId": "6793595d-7626-4bc0-bf3f-97577d83c891"
      },
      "execution_count": 7,
      "outputs": [
        {
          "output_type": "stream",
          "name": "stdout",
          "text": [
            "✅ Emails: ['alice@example.com', 'bob_the_builder@fake.net', 'admin@darkforum.xyz']\n",
            "✅ Usernames: ['alice', 'bob']\n",
            "✅ Passwords: ['wonderland123', 'qwerty!@#']\n"
          ]
        }
      ]
    },
    {
      "cell_type": "code",
      "source": [
        "from itertools import zip_longest\n",
        "\n",
        "df = pd.DataFrame(\n",
        "    list(zip_longest(usernames, emails, passwords, fillvalue=None)),\n",
        "    columns=[\"Username\", \"Email\", \"Password\"]\n",
        ")\n",
        "\n",
        "print(\"✅ Extracted DataFrame (with None padding):\")\n",
        "print(df)\n"
      ],
      "metadata": {
        "colab": {
          "base_uri": "https://localhost:8080/"
        },
        "id": "BEXkIzEvs4_d",
        "outputId": "66fd31fd-9170-4ea6-954e-ecfdcc6671bb"
      },
      "execution_count": 9,
      "outputs": [
        {
          "output_type": "stream",
          "name": "stdout",
          "text": [
            "✅ Extracted DataFrame (with None padding):\n",
            "  Username                     Email       Password\n",
            "0    alice         alice@example.com  wonderland123\n",
            "1      bob  bob_the_builder@fake.net      qwerty!@#\n",
            "2     None       admin@darkforum.xyz           None\n"
          ]
        }
      ]
    },
    {
      "cell_type": "code",
      "source": [
        "output_path = f\"{OUT_DIR}/extracted_data.csv\"\n",
        "df.to_csv(output_path, index=False)\n",
        "\n",
        "print(f\"✅ Data saved to: {output_path}\")\n"
      ],
      "metadata": {
        "colab": {
          "base_uri": "https://localhost:8080/"
        },
        "id": "On-6OolptYaB",
        "outputId": "2bdfa658-417c-4632-9f90-a84f13e0b79d"
      },
      "execution_count": 10,
      "outputs": [
        {
          "output_type": "stream",
          "name": "stdout",
          "text": [
            "✅ Data saved to: /content/drive/MyDrive/threat-data-scraper/outputs/extracted_data.csv\n"
          ]
        }
      ]
    },
    {
      "cell_type": "code",
      "source": [
        "import re\n",
        "\n",
        "def password_strength(pw):\n",
        "    if not pw or not isinstance(pw, str):   # handle None or non-strings\n",
        "        return \"Unknown\"\n",
        "    if len(pw) < 8:\n",
        "        return \"Weak\"\n",
        "    elif re.search(r\"[A-Z]\", pw) and re.search(r\"[0-9]\", pw) and re.search(r\"[^a-zA-Z0-9]\", pw):\n",
        "        return \"Strong\"\n",
        "    else:\n",
        "        return \"Medium\"\n",
        "\n",
        "df[\"Password_Strength\"] = df[\"Password\"].apply(password_strength)\n",
        "\n",
        "print(\"✅ With Password Strength:\")\n",
        "print(df)\n"
      ],
      "metadata": {
        "colab": {
          "base_uri": "https://localhost:8080/"
        },
        "id": "PqwAKd0ltayr",
        "outputId": "8a0881d7-95b2-4884-af82-aee6f28e04af"
      },
      "execution_count": 12,
      "outputs": [
        {
          "output_type": "stream",
          "name": "stdout",
          "text": [
            "✅ With Password Strength:\n",
            "  Username                     Email       Password Password_Strength\n",
            "0    alice         alice@example.com  wonderland123            Medium\n",
            "1      bob  bob_the_builder@fake.net      qwerty!@#            Medium\n",
            "2     None       admin@darkforum.xyz           None           Unknown\n"
          ]
        }
      ]
    },
    {
      "cell_type": "code",
      "source": [
        "summary = {\n",
        "    \"Total Entries\": len(df),\n",
        "    \"Unique Emails\": df[\"Email\"].nunique(),\n",
        "    \"Weak Passwords\": (df[\"Password_Strength\"]==\"Weak\").sum(),\n",
        "    \"Medium Passwords\": (df[\"Password_Strength\"]==\"Medium\").sum(),\n",
        "    \"Strong Passwords\": (df[\"Password_Strength\"]==\"Strong\").sum()\n",
        "}\n",
        "\n",
        "print(\"✅ Summary Report:\")\n",
        "for k,v in summary.items():\n",
        "    print(f\"{k}: {v}\")\n"
      ],
      "metadata": {
        "colab": {
          "base_uri": "https://localhost:8080/"
        },
        "id": "34GJz-vHt96U",
        "outputId": "010c101d-7b4b-4c30-dba5-ae7e9a20f219"
      },
      "execution_count": 13,
      "outputs": [
        {
          "output_type": "stream",
          "name": "stdout",
          "text": [
            "✅ Summary Report:\n",
            "Total Entries: 3\n",
            "Unique Emails: 3\n",
            "Weak Passwords: 0\n",
            "Medium Passwords: 2\n",
            "Strong Passwords: 0\n"
          ]
        }
      ]
    },
    {
      "cell_type": "code",
      "source": [
        "import pandas as pd\n",
        "import os\n",
        "\n",
        "# Save summary into a DataFrame\n",
        "summary_df = pd.DataFrame(list(summary.items()), columns=[\"Metric\", \"Value\"])\n",
        "\n",
        "# Path to save inside Google Drive\n",
        "summary_path = f\"{OUT_DIR}/summary_report.csv\"\n",
        "\n",
        "# Export to CSV\n",
        "summary_df.to_csv(summary_path, index=False)\n",
        "\n",
        "print(f\"✅ Summary exported to: {summary_path}\")\n"
      ],
      "metadata": {
        "colab": {
          "base_uri": "https://localhost:8080/"
        },
        "id": "yu_nT2umFvOh",
        "outputId": "809ace65-03fb-4b65-e308-a25ec964eadc"
      },
      "execution_count": 14,
      "outputs": [
        {
          "output_type": "stream",
          "name": "stdout",
          "text": [
            "✅ Summary exported to: /content/drive/MyDrive/threat-data-scraper/outputs/summary_report.csv\n"
          ]
        }
      ]
    }
  ]
}